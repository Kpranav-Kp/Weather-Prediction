{
 "cells": [
  {
   "cell_type": "markdown",
   "id": "d2c935b3-6fa8-486f-9127-d0bfd32a602b",
   "metadata": {},
   "source": [
    "## Imports"
   ]
  },
  {
   "cell_type": "code",
   "execution_count": 1,
   "id": "10e378e0-1744-4294-90c7-250811c1cd8f",
   "metadata": {},
   "outputs": [],
   "source": [
    "import pandas as pd\n",
    "import numpy as np\n",
    "from sklearn.preprocessing import LabelEncoder\n",
    "from sklearn.metrics import classification_report, confusion_matrix, accuracy_score\n",
    "from sklearn.utils.class_weight import compute_sample_weight\n",
    "from xgboost import XGBClassifier\n",
    "import matplotlib.pyplot as plt\n",
    "import joblib"
   ]
  },
  {
   "cell_type": "markdown",
   "id": "597b0318-889f-4173-826a-07b7f4a51723",
   "metadata": {},
   "source": [
    "## Dataset"
   ]
  },
  {
   "cell_type": "code",
   "execution_count": 2,
   "id": "57183dc2-db61-4fbf-acb4-0b2762bee865",
   "metadata": {},
   "outputs": [],
   "source": [
    "weather = pd.read_csv(\"weather_data_35_years.csv\", index_col=\"time\")"
   ]
  },
  {
   "cell_type": "code",
   "execution_count": 3,
   "id": "391a683a-10b5-40be-bfd1-100fc352f0d5",
   "metadata": {},
   "outputs": [],
   "source": [
    "weather.index = pd.to_datetime(weather.index)"
   ]
  },
  {
   "cell_type": "code",
   "execution_count": 4,
   "id": "ca91fb04-0785-4a0b-872b-72e3f3f2653f",
   "metadata": {},
   "outputs": [],
   "source": [
    "# Adding lag features\n",
    "weather['target'] = weather['weather_code (wmo code)'].shift(-1)\n",
    "weather = weather.iloc[:-1].copy()\n",
    "weather['prev_code'] = weather['weather_code (wmo code)'].shift(1)\n",
    "weather = weather.dropna(subset=['prev_code'])\n",
    "weather['prev_code'] = weather['prev_code'].astype(int)"
   ]
  },
  {
   "cell_type": "code",
   "execution_count": 5,
   "id": "76ff1bd4-8d22-4e5a-8f84-d519065d2c9d",
   "metadata": {},
   "outputs": [],
   "source": [
    "predictors = [\n",
    " 'temperature_2m_max (°C)',\n",
    " 'temperature_2m_min (°C)',\n",
    " 'wind_speed_10m_max (km/h)',\n",
    " 'cloud_cover_mean (%)',\n",
    " 'relative_humidity_2m_mean (%)',\n",
    " 'pressure_msl_mean (hPa)',\n",
    " 'cloud_cover_max (%)',\n",
    " 'dew_point_2m_mean (°C)',\n",
    " 'temperature_2m_mean (°C)',\n",
    " 'apparent_temperature_mean (°C)',\n",
    " 'wind_speed_10m_mean (km/h)',\n",
    " 'precipitation_sum (mm)',\n",
    " 'weather_code (wmo code)',\n",
    " 'prev_code'\n",
    "]"
   ]
  },
  {
   "cell_type": "code",
   "execution_count": 6,
   "id": "1d8f61ee-8c24-4b6f-8233-cd57c76e51e8",
   "metadata": {},
   "outputs": [],
   "source": [
    "predictors = [c for c in predictors if c in weather.columns]"
   ]
  },
  {
   "cell_type": "markdown",
   "id": "e1db598d-42c5-457f-94a7-be40e95d098a",
   "metadata": {},
   "source": [
    "## Split"
   ]
  },
  {
   "cell_type": "code",
   "execution_count": 7,
   "id": "aa88822b-2acc-4233-9a43-72f871f6a4d0",
   "metadata": {},
   "outputs": [],
   "source": [
    "train = weather.loc[:\"2017-05-31\"].copy()\n",
    "test  = weather.loc[\"2017-06-01\":].copy()\n",
    "\n",
    "X_train = train[predictors].copy()\n",
    "y_train = train['target'].astype(int).copy()\n",
    "\n",
    "X_test  = test[predictors].copy()\n",
    "y_test  = test['target'].astype(int).copy()"
   ]
  },
  {
   "cell_type": "markdown",
   "id": "7a46799f-30bc-483b-8f1b-3e197d6e8cae",
   "metadata": {},
   "source": [
    "## Model_1 Binary Predictor"
   ]
  },
  {
   "cell_type": "code",
   "execution_count": 9,
   "id": "b8b5c207-9487-4e26-b7a6-0d2fafede032",
   "metadata": {},
   "outputs": [
    {
     "name": "stdout",
     "output_type": "stream",
     "text": [
      "Stage 1 (is code 3?) Classification Report:\n",
      "              precision    recall  f1-score   support\n",
      "\n",
      "           0      0.864     0.743     0.799      2135\n",
      "           1      0.509     0.695     0.588       817\n",
      "\n",
      "    accuracy                          0.730      2952\n",
      "   macro avg      0.687     0.719     0.693      2952\n",
      "weighted avg      0.766     0.730     0.741      2952\n",
      "\n",
      "Stage1 accuracy: 0.7300135501355014\n"
     ]
    }
   ],
   "source": [
    "y_train_s1 = (y_train == 3).astype(int)  \n",
    "y_test_s1  = (y_test == 3).astype(int)\n",
    "\n",
    "sw_s1 = compute_sample_weight(class_weight='balanced', y=y_train_s1)\n",
    "\n",
    "model_stage1 = XGBClassifier(\n",
    "    eval_metric='logloss',\n",
    "    random_state=42,\n",
    "    n_estimators=200,\n",
    "    learning_rate=0.05,\n",
    "    max_depth=4,\n",
    "    tree_method='hist'\n",
    ")\n",
    "\n",
    "model_stage1.fit(X_train, y_train_s1, sample_weight=sw_s1)\n",
    "y_pred_s1 = model_stage1.predict(X_test)\n",
    "print(\"Stage 1 (is code 3?) Classification Report:\")\n",
    "print(classification_report(y_test_s1, y_pred_s1, digits=3))\n",
    "print(\"Stage1 accuracy:\", accuracy_score(y_test_s1, y_pred_s1))"
   ]
  },
  {
   "cell_type": "markdown",
   "id": "ab67e3af-f332-4367-969c-52c6828193f6",
   "metadata": {},
   "source": [
    "## Model_2 Other Class Predictor"
   ]
  },
  {
   "cell_type": "code",
   "execution_count": 11,
   "id": "7186cc33-d499-4059-9120-44873c2ef1ee",
   "metadata": {},
   "outputs": [
    {
     "name": "stdout",
     "output_type": "stream",
     "text": [
      "\n",
      "Stage 2 (which non-3 class?) Classification Report:\n",
      "              precision    recall  f1-score   support\n",
      "\n",
      "           0      0.125     0.083     0.100        12\n",
      "           1      0.160     0.342     0.218        76\n",
      "           2      0.253     0.548     0.346       126\n",
      "          51      0.570     0.303     0.396       778\n",
      "          53      0.170     0.155     0.162       291\n",
      "          55      0.057     0.101     0.073       109\n",
      "          61      0.189     0.280     0.226       257\n",
      "          63      0.430     0.437     0.433       403\n",
      "          65      0.276     0.096     0.143        83\n",
      "\n",
      "    accuracy                          0.302      2135\n",
      "   macro avg      0.248     0.261     0.233      2135\n",
      "weighted avg      0.370     0.302     0.313      2135\n",
      "\n"
     ]
    }
   ],
   "source": [
    "mask_train_s2 = (y_train != 3)\n",
    "mask_test_s2  = (y_test != 3)\n",
    "\n",
    "X_train_s2 = X_train[mask_train_s2].copy()\n",
    "y_train_s2 = y_train[mask_train_s2].copy()\n",
    "\n",
    "X_test_s2 = X_test[mask_test_s2].copy()\n",
    "y_test_s2 = y_test[mask_test_s2].copy()\n",
    "\n",
    "assert len(y_train_s2) > 0, \"No training rows for Stage 2.\"\n",
    "\n",
    "le_s2 = LabelEncoder()\n",
    "y_train_s2_enc = le_s2.fit_transform(y_train_s2)\n",
    "y_test_s2_enc  = le_s2.transform(y_test_s2)\n",
    "\n",
    "sw_s2 = compute_sample_weight(class_weight='balanced', y=y_train_s2_enc)\n",
    "\n",
    "model_stage2 = XGBClassifier(\n",
    "    eval_metric='mlogloss',\n",
    "    random_state=42,\n",
    "    n_estimators=300,\n",
    "    learning_rate=0.05,\n",
    "    max_depth=5,\n",
    "    tree_method='hist'\n",
    ")\n",
    "model_stage2.fit(X_train_s2, y_train_s2_enc, sample_weight=sw_s2)\n",
    "y_pred_s2_enc = model_stage2.predict(X_test_s2)\n",
    "y_pred_s2 = le_s2.inverse_transform(y_pred_s2_enc)\n",
    "print(\"\\nStage 2 (which non-3 class?) Classification Report:\")\n",
    "print(classification_report(y_test_s2, y_pred_s2, digits=3))"
   ]
  },
  {
   "cell_type": "markdown",
   "id": "d99df82d-75f0-466d-b7a5-86f861836fc7",
   "metadata": {},
   "source": [
    "## Improve stage 2 aaccuracy"
   ]
  },
  {
   "cell_type": "code",
   "execution_count": null,
   "id": "115271a7-2625-4cce-8faf-e0da645af114",
   "metadata": {},
   "outputs": [],
   "source": []
  }
 ],
 "metadata": {
  "kernelspec": {
   "display_name": "Python 3 (ipykernel)",
   "language": "python",
   "name": "python3"
  },
  "language_info": {
   "codemirror_mode": {
    "name": "ipython",
    "version": 3
   },
   "file_extension": ".py",
   "mimetype": "text/x-python",
   "name": "python",
   "nbconvert_exporter": "python",
   "pygments_lexer": "ipython3",
   "version": "3.11.0"
  }
 },
 "nbformat": 4,
 "nbformat_minor": 5
}
